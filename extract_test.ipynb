{
 "cells": [
  {
   "cell_type": "code",
   "execution_count": 1,
   "metadata": {},
   "outputs": [],
   "source": [
    "%matplotlib inline \n",
    "%config InlineBackend.figure_format = 'retina'"
   ]
  },
  {
   "cell_type": "code",
   "execution_count": 13,
   "metadata": {},
   "outputs": [],
   "source": [
    "import json"
   ]
  },
  {
   "cell_type": "code",
   "execution_count": 1,
   "metadata": {},
   "outputs": [],
   "source": [
    "from pdfminer.pdfparser import PDFParser\n",
    "from pdfminer.pdfdocument import PDFDocument\n",
    "from pdfminer.pdfpage import PDFPage\n",
    "from pdfminer.pdfpage import PDFTextExtractionNotAllowed\n",
    "from pdfminer.pdfinterp import PDFResourceManager\n",
    "from pdfminer.pdfinterp import PDFPageInterpreter\n",
    "from pdfminer.converter import PDFPageAggregator\n",
    "from pdfminer.layout import (\n",
    "    LAParams,\n",
    "    LTContainer,\n",
    "    LTTextLine,\n",
    "    LTFigure\n",
    ")"
   ]
  },
  {
   "cell_type": "code",
   "execution_count": 2,
   "metadata": {},
   "outputs": [],
   "source": [
    "import matplotlib.pyplot as plt\n",
    "import numpy as np\n",
    "import matplotlib as mpl\n",
    "mpl.rcParams['figure.dpi'] = 300"
   ]
  },
  {
   "cell_type": "code",
   "execution_count": 4,
   "metadata": {},
   "outputs": [],
   "source": [
    "from pdf2image import convert_from_path, convert_from_bytes"
   ]
  },
  {
   "cell_type": "code",
   "execution_count": 5,
   "metadata": {},
   "outputs": [],
   "source": [
    "import pdfminer.high_level"
   ]
  },
  {
   "cell_type": "code",
   "execution_count": 7,
   "metadata": {},
   "outputs": [],
   "source": [
    "def extract_objects(layout, extracted_objects):\n",
    "    \"\"\" extract text,image recursively \"\"\"\n",
    "    if not isinstance(layout, LTContainer):\n",
    "        return\n",
    "    \n",
    "    for obj in layout:\n",
    "        if isinstance(obj, LTTextLine):\n",
    "            extracted_objects.append({\n",
    "                    \"type\": \"text\",\n",
    "                    \"text\": obj.get_text(),\n",
    "                    \"bbox\": {\n",
    "                        \"x1\": obj.bbox[0],\n",
    "                        'x2': obj.bbox[1],\n",
    "                        'y1': obj.bbox[2],\n",
    "                        'y2': obj.bbox[3]\n",
    "                    }\n",
    "                })\n",
    "            \n",
    "            # recursive call\n",
    "            extract_objects(obj, extracted_objects)\n",
    "            \n",
    "        elif isinstance(obj, LTFigure):\n",
    "            extracted_objects.append({\n",
    "                    \"type\": \"image\",\n",
    "                    \"bbox\": {\n",
    "                        \"x1\": obj.bbox[0],\n",
    "                        'x2': obj.bbox[1],\n",
    "                        'y1': obj.bbox[2],\n",
    "                        'y2': obj.bbox[3]\n",
    "                    }\n",
    "                })\n",
    "            # 画像は，ベクターデータが再帰的に定義されているっぽいので，全体一つだけとる．"
   ]
  },
  {
   "cell_type": "code",
   "execution_count": 10,
   "metadata": {},
   "outputs": [
    {
     "name": "stdout",
     "output_type": "stream",
     "text": [
      "===========  page-0 ===============\n",
      "===========  page-1 ===============\n",
      "===========  page-2 ===============\n",
      "===========  page-3 ===============\n",
      "===========  page-4 ===============\n",
      "===========  page-5 ===============\n"
     ]
    }
   ],
   "source": [
    "path = \"./temp/f3894452-5c04-4623-b91c-10b7e70d07a2.pdf\"\n",
    "\n",
    "with open(path, \"rb\") as f:\n",
    "    parser = PDFParser(f)\n",
    "    document = PDFDocument(parser)\n",
    "    if not document.is_extractable:\n",
    "        raise PDFTextExtractionNotAllowed\n",
    "    laparams = LAParams(all_texts=True)\n",
    "    rsrcmgr = PDFResourceManager()\n",
    "    device = PDFPageAggregator(rsrcmgr, laparams=laparams)\n",
    "    interpreter = PDFPageInterpreter(rsrcmgr, device)\n",
    "\n",
    "    pages = list(PDFPage.create_pages(document))\n",
    "    extracted_page_data = []\n",
    "\n",
    "    for page_no, page in enumerate(pages):\n",
    "        interpreter.process_page(page)\n",
    "        layout = device.get_result()\n",
    "        \n",
    "        contents = []\n",
    "        extract_objects(layout, contents)\n",
    "                \n",
    "        page_data = {\n",
    "            \"bbox\": {\n",
    "                \"x1\": page.mediabox[0],\n",
    "                \"x2\": page.mediabox[2],\n",
    "                \"y1\": page.mediabox[1],\n",
    "                \"y2\": page.mediabox[3],\n",
    "            },\n",
    "            \"contents\": contents\n",
    "        }\n",
    "        extracted_page_data.append(page_data)"
   ]
  },
  {
   "cell_type": "code",
   "execution_count": null,
   "metadata": {},
   "outputs": [],
   "source": [
    "images = convert_from_path(path)"
   ]
  },
  {
   "cell_type": "code",
   "execution_count": null,
   "metadata": {},
   "outputs": [],
   "source": [
    "type(images[0])"
   ]
  },
  {
   "cell_type": "code",
   "execution_count": null,
   "metadata": {},
   "outputs": [],
   "source": [
    "plt.imshow(np.array(images[3]))"
   ]
  },
  {
   "cell_type": "code",
   "execution_count": null,
   "metadata": {},
   "outputs": [],
   "source": [
    "image_x1 = 80.047\n",
    "image_x2 = 527.239\n",
    "image_y1 = 531.945\n",
    "image_y2 = 735.930\n",
    "\n",
    "w = image_x2 - image_x1\n",
    "h = image_y2 - image_y1"
   ]
  },
  {
   "cell_type": "code",
   "execution_count": null,
   "metadata": {},
   "outputs": [],
   "source": [
    "import matplotlib.patches as patches"
   ]
  },
  {
   "cell_type": "code",
   "execution_count": null,
   "metadata": {},
   "outputs": [],
   "source": [
    "fig = plt.figure()\n",
    "ax = plt.axes()\n",
    "\n",
    "r = patches.Rectangle(xy=(0, 0), width=612, height=792, ec='#111111', fill=False)\n",
    "r1 = patches.Rectangle(xy=(image_x1, image_y1), width=w, height=h, ec='#FF0000', fill=False)\n",
    "\n",
    "ax.add_patch(r)\n",
    "ax.add_patch(r1)\n",
    "\n",
    "\n",
    "ax.set_xlim(0,612)\n",
    "ax.set_ylim(0,792)\n",
    "\n",
    "ax.set_aspect('equal')"
   ]
  },
  {
   "cell_type": "code",
   "execution_count": null,
   "metadata": {},
   "outputs": [],
   "source": []
  }
 ],
 "metadata": {
  "kernelspec": {
   "display_name": "Python 3",
   "language": "python",
   "name": "python3"
  },
  "language_info": {
   "codemirror_mode": {
    "name": "ipython",
    "version": 3
   },
   "file_extension": ".py",
   "mimetype": "text/x-python",
   "name": "python",
   "nbconvert_exporter": "python",
   "pygments_lexer": "ipython3",
   "version": "3.6.9"
  }
 },
 "nbformat": 4,
 "nbformat_minor": 2
}
