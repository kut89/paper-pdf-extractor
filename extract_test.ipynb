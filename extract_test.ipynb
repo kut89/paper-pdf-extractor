{
 "cells": [
  {
   "cell_type": "code",
   "execution_count": null,
   "metadata": {},
   "outputs": [],
   "source": [
    "%matplotlib inline \n",
    "%config InlineBackend.figure_format = 'retina'"
   ]
  },
  {
   "cell_type": "code",
   "execution_count": null,
   "metadata": {},
   "outputs": [],
   "source": [
    "import pandas as pd"
   ]
  },
  {
   "cell_type": "code",
   "execution_count": null,
   "metadata": {},
   "outputs": [],
   "source": [
    "import json\n",
    "import math"
   ]
  },
  {
   "cell_type": "code",
   "execution_count": null,
   "metadata": {},
   "outputs": [],
   "source": [
    "from pdfminer.pdfparser import PDFParser\n",
    "from pdfminer.pdfdocument import PDFDocument\n",
    "from pdfminer.pdfpage import PDFPage\n",
    "from pdfminer.pdfpage import PDFTextExtractionNotAllowed\n",
    "from pdfminer.pdfinterp import PDFResourceManager\n",
    "from pdfminer.pdfinterp import PDFPageInterpreter\n",
    "from pdfminer.converter import PDFPageAggregator\n",
    "from pdfminer.layout import (\n",
    "    LAParams,\n",
    "    LTContainer,\n",
    "    LTTextLine,\n",
    "    LTFigure\n",
    ")"
   ]
  },
  {
   "cell_type": "code",
   "execution_count": null,
   "metadata": {},
   "outputs": [],
   "source": [
    "import matplotlib.pyplot as plt\n",
    "import numpy as np\n",
    "import matplotlib as mpl\n",
    "mpl.rcParams['figure.dpi'] = 300\n",
    "import matplotlib.patches as patches"
   ]
  },
  {
   "cell_type": "code",
   "execution_count": null,
   "metadata": {},
   "outputs": [],
   "source": [
    "from pdf2image import convert_from_path, convert_from_bytes"
   ]
  },
  {
   "cell_type": "code",
   "execution_count": null,
   "metadata": {},
   "outputs": [],
   "source": [
    "import pdfminer.high_level"
   ]
  },
  {
   "cell_type": "code",
   "execution_count": null,
   "metadata": {},
   "outputs": [],
   "source": [
    "def extract_objects(layout, extracted_objects):\n",
    "    \"\"\" extract text,image recursively \"\"\"\n",
    "    if not isinstance(layout, LTContainer):\n",
    "        return\n",
    "    \n",
    "    for obj in layout:\n",
    "        if isinstance(obj, LTTextLine):\n",
    "            extracted_objects.append({\n",
    "                    \"type\": \"text\",\n",
    "                    \"text\": obj.get_text(),\n",
    "                    \"bbox\": {\n",
    "                        \"x1\": obj.bbox[0],\n",
    "                        'x2': obj.bbox[2],\n",
    "                        'y1': obj.bbox[1],\n",
    "                        'y2': obj.bbox[3]\n",
    "                    }\n",
    "                })\n",
    "            \n",
    "            # recursive call\n",
    "            \n",
    "        elif isinstance(obj, LTFigure):\n",
    "            extracted_objects.append({\n",
    "                    \"type\": \"image\",\n",
    "                    \"bbox\": {\n",
    "                        \"x1\": obj.bbox[0],\n",
    "                        'x2': obj.bbox[2],\n",
    "                        'y1': obj.bbox[1],\n",
    "                        'y2': obj.bbox[3]\n",
    "                    }\n",
    "                })\n",
    "        extract_objects(obj, extracted_objects)"
   ]
  },
  {
   "cell_type": "code",
   "execution_count": null,
   "metadata": {},
   "outputs": [],
   "source": [
    "_p = []\n",
    "def extract_pdf(pdf_file_path):\n",
    "    extracted_page_data = []\n",
    "\n",
    "    with open(path, \"rb\") as f:\n",
    "        parser = PDFParser(f)\n",
    "        document = PDFDocument(parser)\n",
    "        if not document.is_extractable:\n",
    "            raise PDFTextExtractionNotAllowed\n",
    "        laparams = LAParams(all_texts=True)\n",
    "        rsrcmgr = PDFResourceManager()\n",
    "        device = PDFPageAggregator(rsrcmgr, laparams=laparams)\n",
    "        interpreter = PDFPageInterpreter(rsrcmgr, device)\n",
    "\n",
    "        pages = list(PDFPage.create_pages(document))\n",
    "\n",
    "        for page_no, page in enumerate(pages):\n",
    "            interpreter.process_page(page)\n",
    "            layout = device.get_result()\n",
    "            \n",
    "            global _p\n",
    "            _p.append(page)\n",
    "            contents = []\n",
    "            extract_objects(layout, contents)\n",
    "\n",
    "            page_data = {\n",
    "                \"bbox\": {\n",
    "                    \"x1\": page.mediabox[0],\n",
    "                    \"x2\": page.mediabox[2],\n",
    "                    \"y1\": page.mediabox[1],\n",
    "                    \"y2\": page.mediabox[3],\n",
    "                },\n",
    "                \"contents\": contents\n",
    "            }\n",
    "            extracted_page_data.append(page_data)   \n",
    "    \n",
    "    return extracted_page_data"
   ]
  },
  {
   "cell_type": "code",
   "execution_count": null,
   "metadata": {},
   "outputs": [],
   "source": []
  },
  {
   "cell_type": "code",
   "execution_count": null,
   "metadata": {},
   "outputs": [],
   "source": [
    "def write_text(page):\n",
    "    for content in page['contents']:\n",
    "        \n",
    "        if content['type'] == 'text':\n",
    "            print(content['text'])\n",
    "    print()"
   ]
  },
  {
   "cell_type": "code",
   "execution_count": null,
   "metadata": {},
   "outputs": [],
   "source": []
  },
  {
   "cell_type": "code",
   "execution_count": null,
   "metadata": {
    "scrolled": false
   },
   "outputs": [],
   "source": [
    "# page_no = 0\n",
    "# plot_page(pages[page_no], pdf_images[page_no])"
   ]
  },
  {
   "cell_type": "code",
   "execution_count": null,
   "metadata": {},
   "outputs": [],
   "source": [
    "def calculate_distance_of_two_box(bbox1, bbox2):\n",
    "    c1x1 = min(bbox1['x1'], bbox1['x2'])\n",
    "    c1x2 = max(bbox1['x1'], bbox1['x2'])\n",
    "    c1y1 = min(bbox1['y1'], bbox1['y2'])\n",
    "    c1y2 = max(bbox1['y1'], bbox1['y2'])\n",
    "    \n",
    "    c2x1 = min(bbox2['x1'], bbox2['x2'])\n",
    "    c2x2 = max(bbox2['x1'], bbox2['x2'])\n",
    "    c2y1 = min(bbox2['y1'], bbox2['y2'])\n",
    "    c2y2 = max(bbox2['y1'], bbox2['y2'])\n",
    "    \n",
    "    # X distance\n",
    "    x_d = 0\n",
    "    if (c1x1 <= c2x1 <= c1x2) or (c2x1 <= c1x1 <= c2x2):\n",
    "        x_d = 0\n",
    "    else:\n",
    "        x_d = min(abs(c1x2-c2x1), abs(c1x1-c2x2))\n",
    "        \n",
    "    # Y distance\n",
    "    y_d = 0\n",
    "    if (c1y1 <= c2y1 <= c1y2) or (c2y1 <= c1y1 <= c2y2):\n",
    "        y_d = 0\n",
    "    else:\n",
    "        y_d = min(abs(c1y2-c2y1), abs(c1y1-c2y2))\n",
    "        \n",
    "    return math.sqrt(x_d**2+y_d**2)"
   ]
  },
  {
   "cell_type": "code",
   "execution_count": null,
   "metadata": {},
   "outputs": [],
   "source": [
    "def make_distance_matrix(contents):\n",
    "    \n",
    "    N = len(contents)\n",
    "    distance_matrix = np.zeros((N, N))\n",
    "    \n",
    "    for i in range(0, N):\n",
    "        c1 = contents[i]\n",
    "        for j in range(i+1, N):\n",
    "            c2 = contents[j]\n",
    "            if c1['type'] != c2['type']:\n",
    "                # make Image and Text as different cluster (long distance)\n",
    "                # ToDo : Find Caption\n",
    "                distance = 999\n",
    "            else:\n",
    "                distance = calculate_distance_of_two_box(c1['bbox'], c2['bbox'])\n",
    "            distance_matrix[i][j] = distance\n",
    "            distance_matrix[j][i] = distance\n",
    "\n",
    "    return distance_matrix"
   ]
  },
  {
   "cell_type": "code",
   "execution_count": null,
   "metadata": {},
   "outputs": [],
   "source": [
    "def make_cluster(distance_matrix, threshold):\n",
    "    \n",
    "    N = len(distance_matrix)\n",
    "    content_cluster_ids = np.zeros(N)\n",
    "    current_making_cluster_id = 1\n",
    "    \n",
    "    for i in range(N):\n",
    "        if content_cluster_ids[i] == 0:\n",
    "            # 未割当コンテンツ\n",
    "            apply_to_cluster(i, current_making_cluster_id, content_cluster_ids, distance_matrix, threshold)\n",
    "            current_making_cluster_id += 1\n",
    "\n",
    "    return content_cluster_ids\n",
    "\n",
    "\n",
    "def apply_to_cluster(target_content_id, target_cluster_id, content_cluster_ids, distance_matrix, threshold):\n",
    "    \"\"\" 深さ優先でクラスタリングしていく \"\"\"\n",
    "    \n",
    "    if content_cluster_ids[target_content_id] != 0:\n",
    "        # すでにクラスタに割り当てられていた対象コンテンツ\n",
    "        return 0\n",
    "    \n",
    "    # 対象コンテンツをクラスタに割り当て\n",
    "    content_cluster_ids[target_content_id] = target_cluster_id\n",
    "    \n",
    "    # 対象コンテンツの近傍コンテンツも同じクラスタに割り当て\n",
    "    nums = 1\n",
    "    for j in range(len(distance_matrix)):\n",
    "        distance = distance_matrix[target_content_id][j]\n",
    "        if distance < threshold:\n",
    "            nums += apply_to_cluster(j, target_cluster_id, content_cluster_ids, distance_matrix, threshold)\n",
    "    \n",
    "    # そのクラスタに属するコンテンツ数を返す\n",
    "    return nums"
   ]
  },
  {
   "cell_type": "code",
   "execution_count": null,
   "metadata": {},
   "outputs": [],
   "source": [
    "def make_full_text(contents):\n",
    "    full_text = \"\"\n",
    "    for content in contents:\n",
    "        if content['type'] == 'text':\n",
    "            full_text += content['text']\n",
    "    return full_text\n",
    "    \n",
    "def make_entire_bbox(contents):\n",
    "    min_x = 99999\n",
    "    max_x = -99999\n",
    "    min_y = 99999\n",
    "    max_y = -99999\n",
    "    \n",
    "    for content in contents:\n",
    "        bbox = content['bbox']\n",
    "        min_x = min(min_x, bbox['x1'], bbox['x2'])\n",
    "        max_x = max(max_x, bbox['x1'], bbox['x2'])\n",
    "        min_y = min(min_y, bbox['y1'], bbox['y2'])\n",
    "        max_y = max(max_y, bbox['y1'], bbox['y2'])\n",
    "        \n",
    "    return {\n",
    "        \"x1\": min_x,\n",
    "        \"x2\": max_x,\n",
    "        \"y1\": min_y,\n",
    "        \"y2\": max_y\n",
    "    }"
   ]
  },
  {
   "cell_type": "code",
   "execution_count": null,
   "metadata": {},
   "outputs": [],
   "source": [
    "def convert_page_to_cluster(page):\n",
    "    contents = page['contents']\n",
    "    distance_matrix = make_distance_matrix(page['contents'])\n",
    "    cluster_ids = make_cluster(distance_matrix, threshold=5)\n",
    "        \n",
    "    clusters = {}\n",
    "    di\n",
    "    for i, content in enumerate(contents):\n",
    "        cluster_id = cluster_ids[i]\n",
    "        content['cluster_id'] = cluster_id\n",
    "        \n",
    "        if cluster_id not in clusters:\n",
    "            clusters[cluster_id] = {\n",
    "                \"contents\": [ content, ]\n",
    "            }\n",
    "        else:\n",
    "            clusters[cluster_id]['contents'].append(content)\n",
    "            \n",
    "    for cid, cluster in clusters.items():\n",
    "        cluster_contents = cluster['contents']\n",
    "        cluster['full_text'] = make_full_text(cluster_contents)\n",
    "        cluster['bbox'] = make_entire_bbox(cluster_contents)\n",
    "        cluster['type'] = 'cluster'\n",
    "        \n",
    "    return clusters"
   ]
  },
  {
   "cell_type": "code",
   "execution_count": null,
   "metadata": {},
   "outputs": [],
   "source": [
    "import random\n",
    "\n",
    "def generate_random_color():\n",
    "    return \"#\"+''.join([random.choice('0123456789ABCDEF') for i in range(6)])\n",
    "\n",
    "colors = [ generate_random_color() for i in range(100)]"
   ]
  },
  {
   "cell_type": "code",
   "execution_count": null,
   "metadata": {},
   "outputs": [],
   "source": [
    "def plot_page(page, page_image, plot_all_contents=False):\n",
    "    \n",
    "    image_w, image_h = page_image.size\n",
    "    pdf_w = page['bbox']['x2']- page['bbox']['x1']\n",
    "    pdf_h = page['bbox']['y2']- page['bbox']['y1']\n",
    "    \n",
    "    w_scale = image_w/pdf_w\n",
    "    h_scale = image_h/pdf_h\n",
    "    \n",
    "    # Plot Page\n",
    "    fig = plt.figure()\n",
    "    ax = plt.axes()\n",
    "    \n",
    "    \n",
    "    if plot_all_contents:\n",
    "        target = \"contents\"\n",
    "    else:\n",
    "        target = \"clusters\"\n",
    "\n",
    "    for content_num, content in enumerate(page[target]):\n",
    "\n",
    "        bbox = content['bbox']\n",
    "        content_w = (bbox['x2'] - bbox['x1'])*w_scale\n",
    "        content_h = (bbox['y2'] - bbox['y1'])*h_scale\n",
    "\n",
    "        if content['type'] == 'image':\n",
    "            xy  = (bbox['x1']*w_scale, bbox['y1']*h_scale)\n",
    "            r = patches.Rectangle(xy=xy, width=content_w,height=content_h, ec='#00FF00', fill=False, linestyle='solid', linewidth = 0.2)\n",
    "            ax.add_patch(r)\n",
    "        elif content['type'] == 'text':\n",
    "            xy  = (bbox['x1']*w_scale, bbox['y1']*h_scale)\n",
    "            r = patches.Rectangle(xy=xy, width=content_w,height=content_h, ec='#FF0000', fill=False, linestyle='solid', linewidth = 0.1)\n",
    "            ax.add_patch(r)\n",
    "        elif content['type'] == 'cluster':\n",
    "            xy  = (bbox['x1']*w_scale, bbox['y1']*h_scale)\n",
    "            c = colors[content_num]\n",
    "            r = patches.Rectangle(xy=xy, width=content_w,height=content_h, ec=c, fill=False, linestyle='solid', linewidth = 0.5)\n",
    "            ax.add_patch(r)\n",
    "            \n",
    "    ax.set_xlim(0,image_w)\n",
    "    ax.set_ylim(0,image_h)\n",
    "\n",
    "    ax.set_aspect('equal')\n",
    "    \n",
    "    plt.imshow(np.flipud(page_image))\n",
    "    plt.show()"
   ]
  },
  {
   "cell_type": "code",
   "execution_count": null,
   "metadata": {},
   "outputs": [],
   "source": [
    "dm = make_distance_matrix(pages[2]['contents'])"
   ]
  },
  {
   "cell_type": "code",
   "execution_count": null,
   "metadata": {
    "scrolled": true
   },
   "outputs": [],
   "source": [
    "make_cluster(dm, 10)"
   ]
  },
  {
   "cell_type": "code",
   "execution_count": null,
   "metadata": {},
   "outputs": [],
   "source": [
    "for i, content in enumerate(pages[2]['contents']):\n",
    "    content['cluster_id'] =  cluster_ids[i]"
   ]
  },
  {
   "cell_type": "code",
   "execution_count": null,
   "metadata": {},
   "outputs": [],
   "source": [
    "pages[2]['clusters'][1]['full_text']"
   ]
  },
  {
   "cell_type": "code",
   "execution_count": null,
   "metadata": {},
   "outputs": [],
   "source": [
    "path = \"sample.pdf\"\n",
    "pages  = extract_pdf(path)\n",
    "pdf_images = convert_from_path(path)\n",
    "\n",
    "for i in range(len(pages)):\n",
    "    clusters = convert_page_to_cluster(pages[i])\n",
    "    pages[i]['clusters'] = list(clusters.values())"
   ]
  },
  {
   "cell_type": "code",
   "execution_count": null,
   "metadata": {},
   "outputs": [],
   "source": [
    "page_id = 4\n",
    "plot_page(pages[page_id], pdf_images[page_id], False)"
   ]
  },
  {
   "cell_type": "code",
   "execution_count": null,
   "metadata": {},
   "outputs": [],
   "source": []
  },
  {
   "cell_type": "code",
   "execution_count": null,
   "metadata": {
    "scrolled": true
   },
   "outputs": [],
   "source": [
    "for count, page in enumerate(pages):\n",
    "    \n",
    "    break\n",
    "    print(\"Page {}\".format(count+1))\n",
    "    page_image = pdf_images[count]\n",
    "    plot_page(page, page_image)\n",
    "    break"
   ]
  },
  {
   "cell_type": "code",
   "execution_count": null,
   "metadata": {},
   "outputs": [],
   "source": [
    "distances = distance_matrix.flatten()"
   ]
  },
  {
   "cell_type": "code",
   "execution_count": null,
   "metadata": {},
   "outputs": [],
   "source": [
    "image_x1 = 80.047\n",
    "image_x2 = 527.239\n",
    "image_y1 = 531.945\n",
    "image_y2 = 735.930\n",
    "\n",
    "w = image_x2 - image_x1\n",
    "h = image_y2 - image_y1"
   ]
  },
  {
   "cell_type": "code",
   "execution_count": null,
   "metadata": {},
   "outputs": [],
   "source": [
    "def plot_virtual_page(page):\n",
    "    pdf_w = page['bbox']['x2']- page['bbox']['x1']\n",
    "    pdf_h = page['bbox']['y2']- page['bbox']['y1']\n",
    "    \n",
    "    # Plot Page\n",
    "    fig = plt.figure()\n",
    "    ax = plt.axes()\n",
    "    \n",
    "    for content in page['contents']:\n",
    "        bbox = content['bbox']\n",
    "        content_w = (bbox['x2'] - bbox['x1'])\n",
    "        content_h = (bbox['y2'] - bbox['y1'])\n",
    "        \n",
    "        if content['type'] == 'image':\n",
    "            print(bbox)\n",
    "            r = patches.Rectangle(xy=(bbox['x1'], bbox['y1']), width=content_w,height=content_h, ec='#FF0000', fill=False,  linestyle='solid', linewidth = 0.2)\n",
    "            ax.add_patch(r)\n",
    "        elif content['type'] == 'text':\n",
    "            r = patches.Rectangle(xy=(bbox['x1'], bbox['y1']), width=content_w,height=content_h, ec='#000000', fill=False, linestyle='dashed',linewidth = 0.1)\n",
    "            ax.add_patch(r)\n",
    "\n",
    "\n",
    "    ax.set_xlim(0,pdf_w)\n",
    "    ax.set_ylim(0,pdf_h)\n",
    "\n",
    "    ax.set_aspect('equal')\n",
    "    \n",
    "    # plt.imshow(np.flipud(page_image))\n",
    "    # plt.gca().invert_yaxis()\n",
    "\n",
    "    plt.show()"
   ]
  },
  {
   "cell_type": "code",
   "execution_count": null,
   "metadata": {},
   "outputs": [],
   "source": [
    "plot_virtual_page(pages[0])"
   ]
  },
  {
   "cell_type": "code",
   "execution_count": null,
   "metadata": {},
   "outputs": [],
   "source": []
  }
 ],
 "metadata": {
  "kernelspec": {
   "display_name": "Python 3",
   "language": "python",
   "name": "python3"
  },
  "language_info": {
   "codemirror_mode": {
    "name": "ipython",
    "version": 3
   },
   "file_extension": ".py",
   "mimetype": "text/x-python",
   "name": "python",
   "nbconvert_exporter": "python",
   "pygments_lexer": "ipython3",
   "version": "3.6.9"
  }
 },
 "nbformat": 4,
 "nbformat_minor": 2
}
